{
  "nbformat": 4,
  "nbformat_minor": 0,
  "metadata": {
    "colab": {
      "name": "Acronym.ipynb",
      "provenance": [],
      "authorship_tag": "ABX9TyM99GOqYZ0aglUDdlIiQ9+J",
      "include_colab_link": true
    },
    "kernelspec": {
      "name": "python3",
      "display_name": "Python 3"
    }
  },
  "cells": [
    {
      "cell_type": "markdown",
      "metadata": {
        "id": "view-in-github",
        "colab_type": "text"
      },
      "source": [
        "<a href=\"https://colab.research.google.com/github/sinishibu/Python-Projects/blob/main/Acronym.ipynb\" target=\"_parent\"><img src=\"https://colab.research.google.com/assets/colab-badge.svg\" alt=\"Open In Colab\"/></a>"
      ]
    },
    {
      "cell_type": "code",
      "metadata": {
        "id": "QbflEJ1vPk4S"
      },
      "source": [
        "n=input(\"Enter the full form: \")\r\n",
        "n=n.split()\r\n",
        "for i in n:\r\n",
        "    print(i[0].upper(),end='')"
      ],
      "execution_count": null,
      "outputs": []
    }
  ]
}