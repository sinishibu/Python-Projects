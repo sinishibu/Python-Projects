{
  "nbformat": 4,
  "nbformat_minor": 0,
  "metadata": {
    "colab": {
      "name": "WordCharCount.ipynb",
      "provenance": [],
      "authorship_tag": "ABX9TyPWVz/kWWDDUXIEGE0W9blj",
      "include_colab_link": true
    },
    "kernelspec": {
      "name": "python3",
      "display_name": "Python 3"
    }
  },
  "cells": [
    {
      "cell_type": "markdown",
      "metadata": {
        "id": "view-in-github",
        "colab_type": "text"
      },
      "source": [
        "<a href=\"https://colab.research.google.com/github/sinishibu/Python-Projects/blob/main/WordCharCount.ipynb\" target=\"_parent\"><img src=\"https://colab.research.google.com/assets/colab-badge.svg\" alt=\"Open In Colab\"/></a>"
      ]
    },
    {
      "cell_type": "code",
      "metadata": {
        "id": "EzNXMC0NO3-O"
      },
      "source": [
        "l=input(\"What's on your mind?\")\r\n",
        "t=l\r\n",
        "c=0\r\n",
        "for i in range(0,len(t)):\r\n",
        "    if(t[i]!=\" \"):\r\n",
        "        c=c+1\r\n",
        "l=l.split()\r\n",
        "print(\"Oh nice, you just told me what's on your mind in \"+str(len(l))+\" words having \"+str(c)+\" characters!!!\")"
      ],
      "execution_count": null,
      "outputs": []
    }
  ]
}