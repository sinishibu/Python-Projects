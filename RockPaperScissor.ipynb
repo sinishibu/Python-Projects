{
  "nbformat": 4,
  "nbformat_minor": 0,
  "metadata": {
    "colab": {
      "name": "RockPaperScissor.ipynb",
      "provenance": [],
      "authorship_tag": "ABX9TyPcvnQfUXUWcnYI2pI+TbBS",
      "include_colab_link": true
    },
    "kernelspec": {
      "name": "python3",
      "display_name": "Python 3"
    }
  },
  "cells": [
    {
      "cell_type": "markdown",
      "metadata": {
        "id": "view-in-github",
        "colab_type": "text"
      },
      "source": [
        "<a href=\"https://colab.research.google.com/github/sinishibu/Python-Projects/blob/main/RockPaperScissor.ipynb\" target=\"_parent\"><img src=\"https://colab.research.google.com/assets/colab-badge.svg\" alt=\"Open In Colab\"/></a>"
      ]
    },
    {
      "cell_type": "code",
      "metadata": {
        "id": "9s4YC8bqPvxO"
      },
      "source": [
        "from random import randint\r\n",
        "comp_score=0\r\n",
        "user_score=0\r\n",
        "for j in range(0,5):\r\n",
        "    l=['Rock','Paper','Scissor']\r\n",
        "    cc=randint(0,2)\r\n",
        "    uc=int(input(\"Enter 0:Rock,1:Paper,2:Scissor: \"))\r\n",
        "    if((cc==0) and (uc==1)):\r\n",
        "        comp_score=comp_score+1\r\n",
        "    if((cc==0) and (uc==2)):\r\n",
        "        comp_score=comp_score+1\r\n",
        "    if((cc==1) and (uc==0)):\r\n",
        "        user_score=user_score+1\r\n",
        "    if((cc==1) and (uc==2)):\r\n",
        "        user_score=user_score+1\r\n",
        "    if((cc==2) and (uc==0)):\r\n",
        "        user_score=user_score+1\r\n",
        "    if((cc==2) and (uc==1)):\r\n",
        "        comp_score=comp_score+1\r\n",
        "    print(\"Computer choice:\",l[int(cc)])\r\n",
        "    print(\"User choice:\",l[int(uc)])\r\n",
        "    print(\"Computer score:\",comp_score)\r\n",
        "    print(\"User score:\",user_score)\r\n",
        "    \r\n",
        "if(user_score>comp_score):\r\n",
        "    print(\"User is the winner\")\r\n",
        "elif(comp_score>user_score):\r\n",
        "    print(\"Computer is the winner\")\r\n",
        "elif(comp_score==user_score):\r\n",
        "    print(\"The game is drawn\")\r\n",
        "    "
      ],
      "execution_count": null,
      "outputs": []
    }
  ]
}