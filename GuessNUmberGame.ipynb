{
  "nbformat": 4,
  "nbformat_minor": 0,
  "metadata": {
    "colab": {
      "name": "GuessNUmberGame.ipynb",
      "provenance": [],
      "authorship_tag": "ABX9TyMHTaJ77igbA3sQMvyIlfwX",
      "include_colab_link": true
    },
    "kernelspec": {
      "name": "python3",
      "display_name": "Python 3"
    }
  },
  "cells": [
    {
      "cell_type": "markdown",
      "metadata": {
        "id": "view-in-github",
        "colab_type": "text"
      },
      "source": [
        "<a href=\"https://colab.research.google.com/github/sinishibu/Python-Projects/blob/main/GuessNUmberGame.ipynb\" target=\"_parent\"><img src=\"https://colab.research.google.com/assets/colab-badge.svg\" alt=\"Open In Colab\"/></a>"
      ]
    },
    {
      "cell_type": "code",
      "metadata": {
        "id": "CEF0ufByQDNQ"
      },
      "source": [
        "from random import randint\r\n",
        "c=1\r\n",
        "nc=randint(0,100)\r\n",
        "nu=int(input(\"Enter a number between 0 and 100: \"))\r\n",
        "while(nu!=nc):\r\n",
        "    if(nc>nu):\r\n",
        "        print(\"Guess a bigger number!\")\r\n",
        "        c=c+1\r\n",
        "    if(nu>nc):\r\n",
        "        print(\"Guess a smaller number!\")\r\n",
        "        c=c+1\r\n",
        "    nu=int(input(\"Enter a number between 0 and 100: \"))\r\n",
        "    \r\n",
        "print(\"You have won in \"+str(c)+ \" attempts\")"
      ],
      "execution_count": null,
      "outputs": []
    }
  ]
}