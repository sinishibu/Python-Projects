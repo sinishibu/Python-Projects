{
  "nbformat": 4,
  "nbformat_minor": 0,
  "metadata": {
    "colab": {
      "name": "MadLibsGAme.ipynb",
      "provenance": [],
      "authorship_tag": "ABX9TyMrIoEVQH+hp21e873Mz441",
      "include_colab_link": true
    },
    "kernelspec": {
      "name": "python3",
      "display_name": "Python 3"
    }
  },
  "cells": [
    {
      "cell_type": "markdown",
      "metadata": {
        "id": "view-in-github",
        "colab_type": "text"
      },
      "source": [
        "<a href=\"https://colab.research.google.com/github/sinishibu/Python-Projects/blob/main/MadLibsGAme.ipynb\" target=\"_parent\"><img src=\"https://colab.research.google.com/assets/colab-badge.svg\" alt=\"Open In Colab\"/></a>"
      ]
    },
    {
      "cell_type": "markdown",
      "metadata": {
        "id": "94nI1lCmOgfY"
      },
      "source": [
        "## Mad Libs Game"
      ]
    },
    {
      "cell_type": "code",
      "metadata": {
        "id": "lrrJz1SqOeqM"
      },
      "source": [
        "name=input(\"Enter your name: \")\r\n",
        "animals=input(\"Enter your favourite animal in plural form: \")\r\n",
        "print(\"------Mad Libs------\")\r\n",
        "print(name+\" sat on a wall\")\r\n",
        "print(name+\" had a great fall\")\r\n",
        "print(\"All the King's \"+animals+\" and all the King's men\")\r\n",
        "print(\"Could not put \"+name+\" together again!!\")"
      ],
      "execution_count": null,
      "outputs": []
    }
  ]
}