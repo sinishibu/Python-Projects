{
  "nbformat": 4,
  "nbformat_minor": 0,
  "metadata": {
    "colab": {
      "name": "Alternating_bits.ipynb",
      "provenance": [],
      "authorship_tag": "ABX9TyPc97Nd1FqIil0SJg7D+5DH",
      "include_colab_link": true
    },
    "kernelspec": {
      "name": "python3",
      "display_name": "Python 3"
    }
  },
  "cells": [
    {
      "cell_type": "markdown",
      "metadata": {
        "id": "view-in-github",
        "colab_type": "text"
      },
      "source": [
        "<a href=\"https://colab.research.google.com/github/sinishibu/Python-Projects/blob/main/Alternating_bits.ipynb\" target=\"_parent\"><img src=\"https://colab.research.google.com/assets/colab-badge.svg\" alt=\"Open In Colab\"/></a>"
      ]
    },
    {
      "cell_type": "code",
      "metadata": {
        "colab": {
          "base_uri": "https://localhost:8080/"
        },
        "id": "icZsfZr_MG-Z",
        "outputId": "18c0a6e3-69c2-4afb-a9c4-2aaec8d9a343"
      },
      "source": [
        "#Given an input number, print alternating 1s and 0s as many times as the digits\r\n",
        "#Eg. Input: 234 , Output:110001111\r\n",
        "n=int(input(\"Enter any number:\"))\r\n",
        "l=len(str(n))\r\n",
        "a=[]\r\n",
        "for i in range (l):\r\n",
        "    a.append(n%10)\r\n",
        "    n=int(n/10)\r\n",
        "a.reverse()\r\n",
        "k=0\r\n",
        "for i in (a):\r\n",
        "    if k==0:\r\n",
        "        for j in range(0,i):\r\n",
        "            print(\"1\", end=\"\")\r\n",
        "        k=1\r\n",
        "    else:\r\n",
        "        for j in range(0,i):\r\n",
        "            print(\"0\", end=\"\")\r\n",
        "        k=0"
      ],
      "execution_count": null,
      "outputs": [
        {
          "output_type": "stream",
          "text": [
            "Enter any number:345\n",
            "111000011111"
          ],
          "name": "stdout"
        }
      ]
    }
  ]
}