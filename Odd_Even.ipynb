{
  "nbformat": 4,
  "nbformat_minor": 0,
  "metadata": {
    "colab": {
      "name": "Odd Even.ipynb",
      "provenance": [],
      "authorship_tag": "ABX9TyN6xj43R4oSNWzcar4HTbm5",
      "include_colab_link": true
    },
    "kernelspec": {
      "name": "python3",
      "display_name": "Python 3"
    }
  },
  "cells": [
    {
      "cell_type": "markdown",
      "metadata": {
        "id": "view-in-github",
        "colab_type": "text"
      },
      "source": [
        "<a href=\"https://colab.research.google.com/github/sinishibu/Python-Projects/blob/main/Odd_Even.ipynb\" target=\"_parent\"><img src=\"https://colab.research.google.com/assets/colab-badge.svg\" alt=\"Open In Colab\"/></a>"
      ]
    },
    {
      "cell_type": "markdown",
      "metadata": {
        "id": "AZLq5gqmOJnG"
      },
      "source": [
        "## Odd or Even"
      ]
    },
    {
      "cell_type": "code",
      "metadata": {
        "id": "QvhlCI4AOHr4"
      },
      "source": [
        "ch=\"Y\"\r\n",
        "while(ch=='Y' or ch=='y'):\r\n",
        "    \r\n",
        "   \r\n",
        "    n=int(input(\"What number are you thinking?\"))\r\n",
        "    if(n>0 and n<1000):\r\n",
        "        if n%2==0:\r\n",
        "            print(\"That's an even number!\")\r\n",
        "        else:\r\n",
        "            print(\"That's an odd number!\")\r\n",
        "        print(\"Have another(y/n)?\")\r\n",
        "        ch=input()\r\n",
        "    else:\r\n",
        "        print(\"That's out of range!!!\")\r\n",
        "        print(\"Have another(y/n)?\")\r\n",
        "        ch=input()"
      ],
      "execution_count": null,
      "outputs": []
    }
  ]
}