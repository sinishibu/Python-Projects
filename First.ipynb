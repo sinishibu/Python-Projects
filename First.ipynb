{
  "nbformat": 4,
  "nbformat_minor": 0,
  "metadata": {
    "colab": {
      "name": "First.ipynb",
      "provenance": [],
      "authorship_tag": "ABX9TyMCqRTQ1CG8Ut+ONzO+TyQw",
      "include_colab_link": true
    },
    "kernelspec": {
      "name": "python3",
      "display_name": "Python 3"
    },
    "language_info": {
      "name": "python"
    }
  },
  "cells": [
    {
      "cell_type": "markdown",
      "metadata": {
        "id": "view-in-github",
        "colab_type": "text"
      },
      "source": [
        "<a href=\"https://colab.research.google.com/github/sinishibu/Python-Projects/blob/main/First.ipynb\" target=\"_parent\"><img src=\"https://colab.research.google.com/assets/colab-badge.svg\" alt=\"Open In Colab\"/></a>"
      ]
    },
    {
      "cell_type": "code",
      "metadata": {
        "colab": {
          "base_uri": "https://localhost:8080/"
        },
        "id": "tS9yzAR_6Dw7",
        "outputId": "c1d760f6-4a01-4023-a2f2-1d95e0bbe193"
      },
      "source": [
        "print(\"Hello world\")\n",
        "print(\"XXXX\")"
      ],
      "execution_count": 1,
      "outputs": [
        {
          "output_type": "stream",
          "text": [
            "Hello world\n",
            "XXXX\n"
          ],
          "name": "stdout"
        }
      ]
    }
  ]
}