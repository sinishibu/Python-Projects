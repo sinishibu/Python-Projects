{
  "nbformat": 4,
  "nbformat_minor": 0,
  "metadata": {
    "colab": {
      "name": "BiographyInfo.ipynb",
      "provenance": [],
      "authorship_tag": "ABX9TyNT96P/vMboV/fXBUyn2F/K",
      "include_colab_link": true
    },
    "kernelspec": {
      "name": "python3",
      "display_name": "Python 3"
    }
  },
  "cells": [
    {
      "cell_type": "markdown",
      "metadata": {
        "id": "view-in-github",
        "colab_type": "text"
      },
      "source": [
        "<a href=\"https://colab.research.google.com/github/sinishibu/Python-Projects/blob/main/BiographyInfo.ipynb\" target=\"_parent\"><img src=\"https://colab.research.google.com/assets/colab-badge.svg\" alt=\"Open In Colab\"/></a>"
      ]
    },
    {
      "cell_type": "code",
      "metadata": {
        "id": "jkYHBxk8PJBh"
      },
      "source": [
        "f=0\r\n",
        "while(f==0):\r\n",
        "    name=input(\"Enter your name: \")\r\n",
        "    for i in name:\r\n",
        "        if(i==\"*\" or i==\"#\"):\r\n",
        "            print(\"Invalid name\")\r\n",
        "        else:\r\n",
        "            f=f+1\r\n",
        "dob=input(\"Enter your date of birth: \")\r\n",
        "address=input(\"Enter your address: \")\r\n",
        "goals=input(\"Enter your personal goals: \")\r\n",
        "print(\"Name: \"+name)\r\n",
        "print(\"Date of Birth: \"+dob)\r\n",
        "print(\"Address: \"+address)\r\n",
        "print(\"Personal Goals: \"+goals)\r\n"
      ],
      "execution_count": null,
      "outputs": []
    }
  ]
}